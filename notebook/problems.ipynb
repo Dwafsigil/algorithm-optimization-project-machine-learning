{
 "cells": [
  {
   "attachments": {},
   "cell_type": "markdown",
   "id": "27b09e13",
   "metadata": {},
   "source": [
    "# Optimization of Algorithms problems"
   ]
  },
  {
   "attachments": {},
   "cell_type": "markdown",
   "id": "ed05e9bf",
   "metadata": {},
   "source": [
    "## Exercise 1\n",
    "### Code Optimization for Text Processing\n",
    "\n",
    "You are provided with a text processing code to perform the following operations:\n",
    "\n",
    "1. Convert all text to lowercase.\n",
    "2. Remove punctuation marks.\n",
    "3. Count the frequency of each word.\n",
    "4. Show the 5 most common words.\n",
    "\n",
    "The code works, but it is inefficient and can be optimized. Your task is to identify areas that can be improved and rewrite those parts to make the code more efficient and readable."
   ]
  },
  {
   "cell_type": "code",
   "execution_count": 43,
   "id": "8467465b",
   "metadata": {},
   "outputs": [
    {
     "name": "stdout",
     "output_type": "stream",
     "text": [
      "'the': 5 times\n",
      "'of': 3 times\n",
      "'in': 2 times\n",
      "'a': 2 times\n",
      "'she': 2 times\n"
     ]
    }
   ],
   "source": [
    "import string\n",
    "\n",
    "def process_text(text):\n",
    "    # Text to lowercase\n",
    "    text = text.lower()\n",
    "\n",
    "    # Remove punctuation\n",
    "    for p in string.punctuation:\n",
    "        text = text.replace(p, \"\")\n",
    "\n",
    "    # Split text into words\n",
    "    words = text.split()\n",
    "\n",
    "    # Count frecuencies\n",
    "    frequencies = {}\n",
    "    for w in words:\n",
    "        if w in frequencies:\n",
    "            frequencies[w] += 1\n",
    "        else:\n",
    "            frequencies[w] = 1\n",
    "\n",
    "    sorted_frequencies = sorted(frequencies.items(), key = lambda x: x[1], reverse = True)\n",
    "\n",
    "    # Get 5 most-common words\n",
    "    top_5 = sorted_frequencies[:5]\n",
    "    \n",
    "    for w, frequency in top_5:\n",
    "        print(f\"'{w}': {frequency} times\")\n",
    "\n",
    "text = \"\"\"\n",
    "    In the heart of the city, Emily discovered a quaint little café, hidden away from the bustling streets. \n",
    "    The aroma of freshly baked pastries wafted through the air, drawing in passersby. As she sipped on her latte, \n",
    "    she noticed an old bookshelf filled with classics, creating a cozy atmosphere that made her lose track of time.\n",
    "\"\"\"\n",
    "process_text(text)"
   ]
  },
  {
   "cell_type": "markdown",
   "id": "29040779",
   "metadata": {},
   "source": [
    "Points to optimize:\n",
    "\n",
    "1. **Removal of punctuation marks**: Using `replace` in a loop can be inefficient, especially with long texts. Look for a more efficient way to remove punctuation marks.\n",
    "2. **Frequency count**: The code checks for the existence of each word in the dictionary and then updates its count. This can be done more efficiently with certain data structures in Python.\n",
    "3. **Sort and select:** Consider if there is a more direct or efficient way to get the 5 most frequent words without sorting all the words.\n",
    "4. **Modularity**: Break the code into smaller functions so that each one performs a specific task. This will not only optimize performance, but also make the code more readable and maintainable."
   ]
  },
  {
   "cell_type": "code",
   "execution_count": null,
   "id": "57cd6641",
   "metadata": {},
   "outputs": [
    {
     "name": "stdout",
     "output_type": "stream",
     "text": [
      " Lower Case: \n",
      "    in the heart of the city, emily discovered a quaint little café, hidden away from the bustling streets. \n",
      "    the aroma of freshly baked pastries wafted through the air, drawing in passersby. as she sipped on her latte, \n",
      "    she noticed an old bookshelf filled with classics, creating a cozy atmosphere that made her lose track of time.\n",
      "\n",
      "No Punctuation: \n",
      "    in the heart of the city emily discovered a quaint little café hidden away from the bustling streets \n",
      "    the aroma of freshly baked pastries wafted through the air drawing in passersby as she sipped on her latte \n",
      "    she noticed an old bookshelf filled with classics creating a cozy atmosphere that made her lose track of time\n",
      "\n",
      "Word Frequency: Counter({'the': 5, 'of': 3, 'in': 2, 'a': 2, 'she': 2, 'her': 2, 'heart': 1, 'city': 1, 'emily': 1, 'discovered': 1, 'quaint': 1, 'little': 1, 'café': 1, 'hidden': 1, 'away': 1, 'from': 1, 'bustling': 1, 'streets': 1, 'aroma': 1, 'freshly': 1, 'baked': 1, 'pastries': 1, 'wafted': 1, 'through': 1, 'air': 1, 'drawing': 1, 'passersby': 1, 'as': 1, 'sipped': 1, 'on': 1, 'latte': 1, 'noticed': 1, 'an': 1, 'old': 1, 'bookshelf': 1, 'filled': 1, 'with': 1, 'classics': 1, 'creating': 1, 'cozy': 1, 'atmosphere': 1, 'that': 1, 'made': 1, 'lose': 1, 'track': 1, 'time': 1})\n",
      "\n",
      "Top 5 Words: [('the', 5), ('of', 3), ('in', 2), ('a', 2), ('she', 2)]\n"
     ]
    }
   ],
   "source": [
    "# TODO\n",
    "import string\n",
    "from collections import Counter\n",
    "\n",
    "text = \"\"\"\n",
    "    In the heart of the city, Emily discovered a quaint little café, hidden away from the bustling streets. \n",
    "    The aroma of freshly baked pastries wafted through the air, drawing in passersby. As she sipped on her latte, \n",
    "    she noticed an old bookshelf filled with classics, creating a cozy atmosphere that made her lose track of time.\n",
    "\"\"\"\n",
    "\n",
    "def to_lower(text):\n",
    "    return text.lower()\n",
    "\n",
    "def remove_punc(text):\n",
    "    return text.translate(str.maketrans('','',string.punctuation))\n",
    "\n",
    "def freq(text):\n",
    "    words = text.split()\n",
    "    return Counter(words)\n",
    "\n",
    "def top_words(freq, amount = 5):\n",
    "    return freq.most_common(amount)\n",
    "\n",
    "def process_text(text):\n",
    "    lower_case = to_lower(text)\n",
    "    no_punc = remove_punc(lower_case)\n",
    "    word_frequency = freq(no_punc)\n",
    "    top_5_words = top_words(word_frequency, 5)\n",
    "    \n",
    "    print(f\" Lower Case: {lower_case}\")\n",
    "    print(f\"No Punctuation: {no_punc}\")\n",
    "    print(f\"Word Frequency: {word_frequency}\")\n",
    "    print(f\"\\nTop 5 Words: {top_5_words}\")\n",
    "\n",
    "\n",
    "process_text(text)"
   ]
  },
  {
   "attachments": {},
   "cell_type": "markdown",
   "id": "011996bc",
   "metadata": {},
   "source": [
    "## Exercise 2\n",
    "### Code Optimization for List Processing\n",
    "\n",
    "You have been given a code that performs operations on a list of numbers for:\n",
    "\n",
    "1. Filter out even numbers.\n",
    "2. Duplicate each number.\n",
    "3. Add all numbers.\n",
    "4. Check if the result is a prime number.\n",
    "\n",
    "The code provided achieves its goal, but it may be inefficient. Your task is to identify and improve the parts of the code to increase its efficiency."
   ]
  },
  {
   "cell_type": "code",
   "execution_count": 45,
   "id": "783d03a0",
   "metadata": {},
   "outputs": [
    {
     "name": "stdout",
     "output_type": "stream",
     "text": [
      "Result: 60, ¿Prime? No\n"
     ]
    }
   ],
   "source": [
    "import math\n",
    "\n",
    "def is_prime(n):\n",
    "    if n <= 1:\n",
    "        return False\n",
    "    for i in range(2, int(math.sqrt(n)) + 1):\n",
    "        if n % i == 0:\n",
    "            return False\n",
    "    return True\n",
    "\n",
    "def process_list(list_):\n",
    "    filtered_list = []\n",
    "    for num in list_:\n",
    "        if num % 2 == 0:\n",
    "            filtered_list.append(num)\n",
    "    \n",
    "    duplicate_list = []\n",
    "    for num in filtered_list:\n",
    "        duplicate_list.append(num * 2)\n",
    "        \n",
    "    sum = 0\n",
    "    for num in duplicate_list:\n",
    "        sum += num\n",
    "\n",
    "    prime = is_prime(sum)\n",
    "    \n",
    "    return sum, prime\n",
    "\n",
    "list_ = [1, 2, 3, 4, 5, 6, 7, 8, 9, 10]\n",
    "result, result_prime = process_list(list_)\n",
    "print(f\"Result: {result}, ¿Prime? {'Yes' if result_prime else 'No'}\")"
   ]
  },
  {
   "cell_type": "markdown",
   "id": "128d564e",
   "metadata": {},
   "source": [
    "Points to optimize:\n",
    "\n",
    "1. **Filter numbers**: The code goes through the original list to filter out even numbers. Consider a more efficient way to filter the list.\n",
    "2. **Duplication**: The list is traversed multiple times. Is there a way to do this more efficiently?\n",
    "3. **Summing**: The numbers in a list are summed through a loop. Python has built-in functions that can optimize this.\n",
    "4. **Function `is_prime`**: While this function is relatively efficient, investigate if there are ways to make it even faster.\n",
    "5. **Modularity**: Consider breaking the code into smaller functions, each focused on a specific task."
   ]
  },
  {
   "cell_type": "code",
   "execution_count": 52,
   "id": "17f7a990",
   "metadata": {},
   "outputs": [
    {
     "name": "stdout",
     "output_type": "stream",
     "text": [
      "Even Numbers: [2, 4, 6, 8, 10]\n",
      "Multipled List: [4, 8, 12, 16, 20]\n",
      "Sum of List: 60\n",
      "Prime: False\n"
     ]
    }
   ],
   "source": [
    "# TODO\n",
    "import math\n",
    "\n",
    "def even_list(list):\n",
    "    return [n for n in list if n % 2 == 0]\n",
    "\n",
    "def duplicate_list(list):\n",
    "    return [n * 2 for n in list];\n",
    "\n",
    "def sum_list(list):\n",
    "    return sum(list)\n",
    "\n",
    "def check_prime(value):\n",
    "    if value <= 1: return False\n",
    "    if value % 2 == 0: return False\n",
    "    for i in range(3, math.isqrt(value), 2):\n",
    "        if(value % i == 0): return False;\n",
    "    return True;\n",
    "\n",
    "def process_list(list):\n",
    "    even = even_list(list);\n",
    "    duplicate = duplicate_list(even)\n",
    "    sum = sum_list(duplicate)\n",
    "    prime = check_prime(sum)\n",
    "\n",
    "    print(f\"Even Numbers: {even}\")\n",
    "    print(f\"Multipled List: {duplicate}\")\n",
    "    print(f\"Sum of List: {sum}\")\n",
    "    print(f\"Prime: {prime}\")\n",
    "\n",
    "list_ = [1, 2, 3, 4, 5, 6, 7, 8, 9, 10]\n",
    "\n",
    "process_list(list_)"
   ]
  },
  {
   "attachments": {},
   "cell_type": "markdown",
   "id": "1af70806",
   "metadata": {},
   "source": [
    "Both exercises will help you improve your code performance optimization skills and give you a better understanding of how different data structures and programming techniques can affect the efficiency of your code."
   ]
  }
 ],
 "metadata": {
  "kernelspec": {
   "display_name": "Python 3",
   "language": "python",
   "name": "python3"
  },
  "language_info": {
   "codemirror_mode": {
    "name": "ipython",
    "version": 3
   },
   "file_extension": ".py",
   "mimetype": "text/x-python",
   "name": "python",
   "nbconvert_exporter": "python",
   "pygments_lexer": "ipython3",
   "version": "3.11.4"
  }
 },
 "nbformat": 4,
 "nbformat_minor": 5
}
